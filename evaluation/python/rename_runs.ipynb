{
 "cells": [
  {
   "cell_type": "markdown",
   "metadata": {},
   "source": [
    "<h1>Rename Runs</h1>\n",
    "<p>This script takes each run in all the subdirectories and copies it to a new directory with a new name convention. All the runs are saved in the same directory.</p>"
   ]
  },
  {
   "cell_type": "code",
   "execution_count": 1,
   "metadata": {},
   "outputs": [],
   "source": [
    "# Import the libraries\n",
    "import os\n",
    "import shutil"
   ]
  },
  {
   "cell_type": "code",
   "execution_count": 2,
   "metadata": {},
   "outputs": [],
   "source": [
    "# Input parameters\n",
    "# Path which contains the folder with the runs\n",
    "base_path = \"/Users/tjz514/Documents/uni/2020/sigir2020_reproducibility/experiments/runs/reproducibility_0405\"\n",
    "# Path to the new folder which will contains the renamed runs\n",
    "output_path = \"/Users/tjz514/Documents/uni/2020/sigir2020_reproducibility/experiments/runs/reproducibility_0405_rename\"\n",
    "# Specify the run folder\n",
    "run_name = \"wcrobust0405\""
   ]
  },
  {
   "cell_type": "code",
   "execution_count": 3,
   "metadata": {},
   "outputs": [],
   "source": [
    "# List all the files in the main directory\n",
    "# Path to the main directory with the runs\n",
    "input_path = os.path.join(base_path, run_name)\n",
    "# Walk through the subfolders\n",
    "for path, subdirs, files in os.walk(input_path):\n",
    "    # For each file in the subfolders\n",
    "    for name in files:\n",
    "        if name.startswith(\"irc\"):\n",
    "            # print(os.path.basename(path))\n",
    "            # print(os.path.join(path, name))\n",
    "            # Get the path to the run file\n",
    "            old_file_path = os.path.join(path, name)\n",
    "            # Get the name of the last folder\n",
    "            run_id = os.path.basename(path)\n",
    "            # Set the new file name\n",
    "            new_file_name = \"rpd_\" + run_name + \"_\" + run_id + \".txt\"\n",
    "            # Path to the new file\n",
    "            new_file_path = os.path.join(output_path, run_name, new_file_name)\n",
    "            # Copy the file to the new folder with the new name\n",
    "            shutil.copy(old_file_path, new_file_path)"
   ]
  },
  {
   "cell_type": "code",
   "execution_count": null,
   "metadata": {},
   "outputs": [],
   "source": []
  }
 ],
 "metadata": {
  "kernelspec": {
   "display_name": "Python 3",
   "language": "python",
   "name": "python3"
  },
  "language_info": {
   "codemirror_mode": {
    "name": "ipython",
    "version": 3
   },
   "file_extension": ".py",
   "mimetype": "text/x-python",
   "name": "python",
   "nbconvert_exporter": "python",
   "pygments_lexer": "ipython3",
   "version": "3.7.2"
  }
 },
 "nbformat": 4,
 "nbformat_minor": 2
}
