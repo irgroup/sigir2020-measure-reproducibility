{
 "cells": [
  {
   "cell_type": "markdown",
   "metadata": {},
   "source": [
    "<h1>Rename Runs</h1>\n",
    "<p>This script parses each run in the directory and:</p>\n",
    "<ol>\n",
    "<li>Change the run name and set it equal to the file name;</li>\n",
    "<li>Remove extra documents and cut the runs at 1000 documents for each topic;</li>\n",
    "<li>Sort the run by topic id and rank.</li>    \n",
    "</ol>"
   ]
  },
  {
   "cell_type": "code",
   "execution_count": 1,
   "metadata": {},
   "outputs": [],
   "source": [
    "# Import the libraries\n",
    "import os\n",
    "import shutil\n",
    "from operator import itemgetter"
   ]
  },
  {
   "cell_type": "code",
   "execution_count": 2,
   "metadata": {},
   "outputs": [],
   "source": [
    "# Input parameters\n",
    "# Path which contains the folders with the runs\n",
    "base_path = \"/Users/tjz514/Documents/uni/2020/sigir2020_reproducibility/experiments/runs/reproducibility_0405_rename\""
   ]
  },
  {
   "cell_type": "code",
   "execution_count": 3,
   "metadata": {},
   "outputs": [],
   "source": [
    "# List all the files in the subfolders\n",
    "# List of tuples: (run_path, run_id) \n",
    "run_files = []\n",
    "# Walk through the subfolders\n",
    "for path, subdirs, files in os.walk(base_path):\n",
    "    # For each file in the subfolders\n",
    "    for name in files:\n",
    "        # Check if this is a run file, the extension should be .txt\n",
    "        if name.endswith(\".txt\"):\n",
    "            # Append the tuple to the list\n",
    "            # os.path.join(path, name) returns the path to the run file\n",
    "            # name.replace(\".txt\", \"\") remove the extension\n",
    "            run_files.append((os.path.join(path, name), name.replace(\".txt\", \"\")))"
   ]
  },
  {
   "cell_type": "code",
   "execution_count": 4,
   "metadata": {},
   "outputs": [],
   "source": [
    "# Read the run files and import the runs (list of tuples) in a collection\n",
    "# key = run_name\n",
    "# value = list of tuples\n",
    "run_set = {}\n",
    "for (run_path, run_name) in run_files:\n",
    "    \n",
    "    # Initialize the run as a list of tuples\n",
    "    # (topic_id, doc_id, rank, score)\n",
    "    run = []\n",
    "    \n",
    "    #print(run_path)\n",
    "    \n",
    "    # Read the input file as a whole\n",
    "    with open(run_path) as f:\n",
    "        input_file = f.readlines()\n",
    "\n",
    "    # Parse each line and populate the corresponding dictionaries\n",
    "    for line in input_file:\n",
    "        # parse the line and keep only the topic_id  \n",
    "        topic_id, _, doc_id, rank, score, _ = line.strip().split()\n",
    "        # Add the tuple to the list\n",
    "        run.append((int(topic_id), doc_id, int(rank), score))\n",
    "    \n",
    "    # Close the run file\n",
    "    f.close()\n",
    "    \n",
    "    # add the list of tuples to the collection\n",
    "    run_set[run_name] = run"
   ]
  },
  {
   "cell_type": "code",
   "execution_count": 5,
   "metadata": {},
   "outputs": [],
   "source": [
    "# Print the new run files\n",
    "for (run_path, run_name) in run_files:\n",
    "    \n",
    "    # Get the corresponding list of tuples form the collection\n",
    "    run = run_set[run_name]\n",
    "    # Sort the run by topic id and rank\n",
    "    run.sort(key=itemgetter(2))         # rank ascending\n",
    "    run.sort(key=itemgetter(0))         # topic_id ascending\n",
    "    \n",
    "    # Open a new file to write the run\n",
    "    new_run_f = open(run_path, \"w+\")\n",
    "    # Initialize the topic_id\n",
    "    current_topic_id = \"\"\n",
    "    # Maximum number of documents for each topic\n",
    "    max_rank = 1000\n",
    "    \n",
    "    # For each item in the run list\n",
    "    for (topic_id, doc_id, rank, score) in run:\n",
    "        # Check if the topic_id as changed\n",
    "        if current_topic_id != topic_id:\n",
    "            # Update the current topic_id\n",
    "            current_topic_id = topic_id\n",
    "            # Update the rank position\n",
    "            current_rank = 0\n",
    "            \n",
    "        # If the rank is lower than the maximum allowed\n",
    "        if current_rank < max_rank:\n",
    "            # Write the data in the new run file\n",
    "            string_results = \"%i\\tQ0\\t%s\\t%i\\t%s\\t%s\\n\" % (topic_id, doc_id, rank, score, run_name)\n",
    "            # print(string_results)\n",
    "            new_run_f.write(string_results)\n",
    "            \n",
    "        # Update the current rank\n",
    "        current_rank = current_rank + 1\n",
    "\n",
    "    # Close the new run file\n",
    "    new_run_f.close()"
   ]
  },
  {
   "cell_type": "code",
   "execution_count": null,
   "metadata": {},
   "outputs": [],
   "source": []
  }
 ],
 "metadata": {
  "kernelspec": {
   "display_name": "Python 3",
   "language": "python",
   "name": "python3"
  },
  "language_info": {
   "codemirror_mode": {
    "name": "ipython",
    "version": 3
   },
   "file_extension": ".py",
   "mimetype": "text/x-python",
   "name": "python",
   "nbconvert_exporter": "python",
   "pygments_lexer": "ipython3",
   "version": "3.7.2"
  }
 },
 "nbformat": 4,
 "nbformat_minor": 2
}
